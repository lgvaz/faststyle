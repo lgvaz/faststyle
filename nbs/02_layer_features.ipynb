{
 "cells": [
  {
   "cell_type": "code",
   "execution_count": null,
   "metadata": {},
   "outputs": [],
   "source": [
    "#default_exp layer_features"
   ]
  },
  {
   "cell_type": "code",
   "execution_count": null,
   "metadata": {},
   "outputs": [],
   "source": [
    "#export\n",
    "from fastai2.basics import *\n",
    "from fastai2.vision.all import *\n",
    "from fastai2.callback.all import *\n",
    "from torchvision.models import vgg16, vgg19\n",
    "from faststyle import *"
   ]
  },
  {
   "cell_type": "code",
   "execution_count": null,
   "metadata": {},
   "outputs": [],
   "source": [
    "#export\n",
    "Features = namedtuple('Features', 'style content')"
   ]
  },
  {
   "cell_type": "code",
   "execution_count": null,
   "metadata": {},
   "outputs": [],
   "source": [
    "#export\n",
    "def _prepare_model(m):\n",
    "  m = m.to(default_device()).eval()\n",
    "  for p in m.parameters(): p.requires_grad=False\n",
    "  return m"
   ]
  },
  {
   "cell_type": "code",
   "execution_count": null,
   "metadata": {},
   "outputs": [],
   "source": [
    "#export\n",
    "def _get_layers(m, idxs):\n",
    "  return [m[i] for i in idxs]"
   ]
  },
  {
   "cell_type": "code",
   "execution_count": null,
   "metadata": {},
   "outputs": [],
   "source": [
    "#export\n",
    "_imagenet_norm = Normalize.from_stats(*imagenet_stats)"
   ]
  },
  {
   "cell_type": "code",
   "execution_count": null,
   "metadata": {},
   "outputs": [],
   "source": [
    "#export\n",
    "class FeatModels:\n",
    "  @staticmethod\n",
    "  def vgg16():\n",
    "    m = vgg16(True).features\n",
    "    stl_ls = _get_layers(m, (1, 11, 18, 25))\n",
    "    cnt_ls = _get_layers(m, (20,))\n",
    "    return dict(m=m, stl_ls=stl_ls, cnt_ls=cnt_ls, tfms=[_imagenet_norm])\n",
    "  \n",
    "  @staticmethod\n",
    "  def vgg19():\n",
    "    m = vgg19(True).features\n",
    "    stl_ls = _get_layers(m, (1, 6, 11, 20, 29))\n",
    "    cnt_ls = _get_layers(m, (22,))\n",
    "    return dict(m=m, stl_ls=stl_ls, cnt_ls=cnt_ls, tfms=[_imagenet_norm])"
   ]
  },
  {
   "cell_type": "code",
   "execution_count": null,
   "metadata": {},
   "outputs": [],
   "source": [
    "#export\n",
    "class LayerFeats:\n",
    "  def __init__(self, m, stl_ls, cnt_ls, tfms=None):\n",
    "    self.m, self.tfms = _prepare_model(m), Pipeline(tfms)\n",
    "    self.stl_hooks = hook_outputs(stl_ls, detach=False)\n",
    "    self.cnt_hooks = hook_outputs(cnt_ls, detach=False)\n",
    "  \n",
    "  def __call__(self, x):\n",
    "    _ = self.m(self.tfms(x))\n",
    "    return Features(style=self.stl_hooks.stored, content=self.cnt_hooks.stored)\n",
    "  \n",
    "  @classmethod\n",
    "  def from_feat_m(cls, feat_m): return cls(**feat_m())"
   ]
  },
  {
   "cell_type": "code",
   "execution_count": null,
   "metadata": {},
   "outputs": [],
   "source": [
    "get_feats = LayerFeats.from_feat_m(FeatModels.vgg19)\n",
    "tim = TensorImage.create('../examples/styles/abstract.jpg')\n",
    "feats = get_feats(tim)"
   ]
  },
  {
   "cell_type": "code",
   "execution_count": null,
   "metadata": {},
   "outputs": [],
   "source": [
    "test_eq(len(feats), 2)\n",
    "test_eq(len(feats.style), 5)\n",
    "test_eq(len(feats.content), 1)"
   ]
  },
  {
   "cell_type": "markdown",
   "metadata": {},
   "source": [
    "## Export -"
   ]
  },
  {
   "cell_type": "code",
   "execution_count": null,
   "metadata": {},
   "outputs": [
    {
     "name": "stdout",
     "output_type": "stream",
     "text": [
      "Converted 00_core.ipynb.\n",
      "Converted 01_data.ipynb.\n",
      "Converted 02_layer_features.ipynb.\n",
      "Converted 03_loss.ipynb.\n",
      "Converted 04_learner.ipynb.\n",
      "Converted 04_models.ipynb.\n",
      "Converted 06_callback.ipynb.\n"
     ]
    }
   ],
   "source": [
    "#hide\n",
    "from nbdev.export import *\n",
    "notebook2script()"
   ]
  }
 ],
 "metadata": {
  "kernelspec": {
   "display_name": "Python 3",
   "language": "python",
   "name": "python3"
  }
 },
 "nbformat": 4,
 "nbformat_minor": 4
}
