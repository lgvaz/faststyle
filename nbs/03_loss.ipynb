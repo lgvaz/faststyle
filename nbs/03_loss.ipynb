{
 "cells": [
  {
   "cell_type": "code",
   "execution_count": null,
   "metadata": {},
   "outputs": [],
   "source": [
    "#default_exp loss"
   ]
  },
  {
   "cell_type": "markdown",
   "metadata": {},
   "source": [
    "## TODO: Clear losses"
   ]
  },
  {
   "cell_type": "code",
   "execution_count": null,
   "metadata": {},
   "outputs": [],
   "source": [
    "#export\n",
    "from fastai2.basics import *\n",
    "from faststyle import *"
   ]
  },
  {
   "cell_type": "code",
   "execution_count": null,
   "metadata": {},
   "outputs": [],
   "source": [
    "#export\n",
    "def gram(x):\n",
    "    n,c,h,w = x.size()\n",
    "    x = x.view(n, c, -1)\n",
    "    return (x @ x.transpose(1,2))/(c*h*w)"
   ]
  },
  {
   "cell_type": "code",
   "execution_count": null,
   "metadata": {},
   "outputs": [],
   "source": [
    "#export\n",
    "def content_loss(pred, targ, fts, layer_ws=None):\n",
    "  layer_ws = layer_ws or [1.]*len(fts['pred']['cnt'])\n",
    "  return sum([w*F.mse_loss(p,t) for w,p,t in zip_safe(layer_ws,fts['pred']['cnt'],fts['targ']['cnt'])])"
   ]
  },
  {
   "cell_type": "code",
   "execution_count": null,
   "metadata": {},
   "outputs": [],
   "source": [
    "#export\n",
    "def style_loss(pred, targ, fts, layer_ws=None, stl_ws=None):\n",
    "  bs = fts['pred']['stl'][0].shape[0]\n",
    "  sims_gs = L(torch.stack([gram(f) for f in fs]).wmean(stl_ws, dim=0) for fs in fts['source']['stl'])\n",
    "  pred_gs = [gram(f) for f in fts['pred']['stl']]\n",
    "  layer_ws = layer_ws or [1.]*len(pred_gs)\n",
    "  stl_losses = [w*F.mse_loss(g1.repeat(bs,1,1),g2) for w,g1,g2 in zip_safe(layer_ws,sims_gs,pred_gs)]\n",
    "  return sum(stl_losses)"
   ]
  },
  {
   "cell_type": "code",
   "execution_count": null,
   "metadata": {},
   "outputs": [],
   "source": [
    "#export\n",
    "def tv_loss(pred,*_):      \n",
    "  tv_h = ((pred[:,:,1:,:] - pred[:,:,:-1,:]).pow(2)).mean()\n",
    "  tv_w = ((pred[:,:,:,1:] - pred[:,:,:,:-1]).pow(2)).mean()    \n",
    "  return (tv_h + tv_w)"
   ]
  },
  {
   "cell_type": "code",
   "execution_count": null,
   "metadata": {},
   "outputs": [],
   "source": [
    "#export\n",
    "def pixel_loss(pred, targ, fts, base_loss=F.mse_loss, **kwargs):\n",
    "  return base_loss(pred,targ,**kwargs)"
   ]
  },
  {
   "cell_type": "code",
   "execution_count": null,
   "metadata": {},
   "outputs": [],
   "source": [
    "#export\n",
    "@funcs_kwargs\n",
    "class FastStyleLoss:\n",
    "  _methods=['stl_loss','cnt_loss','tv_loss']\n",
    "  def __init__(self, stl_w=3e5, cnt_w=1, tv_w=20, **kwargs):\n",
    "    store_attr(self, 'stl_w,cnt_w,tv_w')\n",
    "    self.metrics = L(LossMetrics(['stl', 'cnt', 'tv']))\n",
    "\n",
    "  def __call__(self, pred, targ, fts, **kwargs):\n",
    "    self.stl = self.stl_w*self.stl_loss(pred, targ, fts)\n",
    "    self.cnt = self.cnt_w*self.cnt_loss(pred, targ, fts)\n",
    "    self.tv  = self.tv_w *self.tv_loss (pred, targ, fts)\n",
    "    return self.stl+self.cnt+self.tv\n",
    "  \n",
    "  @delegates(style_loss)\n",
    "  def stl_loss(self,pred,targ,fts,**kwargs): return style_loss(pred,targ,fts,**kwargs)\n",
    "  @delegates(content_loss)\n",
    "  def cnt_loss(self,pred,targ,fts,**kwargs): return content_loss(pred,targ,fts,**kwargs)\n",
    "  @delegates(tv_loss)\n",
    "  def tv_loss(self,pred,targ,fts,**kwargs): return tv_loss(pred,targ,fts,**kwargs)"
   ]
  },
  {
   "cell_type": "code",
   "execution_count": null,
   "metadata": {},
   "outputs": [],
   "source": [
    "#export\n",
    "@funcs_kwargs\n",
    "class SuperResLoss:\n",
    "  _methods=['pixel_loss','cnt_loss']\n",
    "  def __init__(self, **kwargs):\n",
    "    self.metrics = L(LossMetrics(['pixel','cnt']))\n",
    "    \n",
    "  def __call__(self, pred, targ, fts,**kwargs):\n",
    "    self.pixel = self.pixel_loss(pred,targ,fts,**kwargs)\n",
    "    self.cnt   = self.cnt_loss  (pred,targ,fts,**kwargs)\n",
    "    return self.pixel+self.cnt\n",
    "    \n",
    "  @delegates(pixel_loss)\n",
    "  def pixel_loss(self,pred,targ,fts,**kwargs): return pixel_loss(pred,targ,fts,**kwargs)\n",
    "  @delegates(content_loss)\n",
    "  def cnt_loss(self,pred,targ,fts,**kwargs): return content_loss(pred,targ,fts,**kwargs)"
   ]
  },
  {
   "cell_type": "markdown",
   "metadata": {},
   "source": [
    "## Export -"
   ]
  },
  {
   "cell_type": "code",
   "execution_count": null,
   "metadata": {},
   "outputs": [
    {
     "name": "stdout",
     "output_type": "stream",
     "text": [
      "Converted 00_core.ipynb.\n",
      "Converted 01_data.ipynb.\n",
      "Converted 02_layer_features.ipynb.\n",
      "Converted 03_loss.ipynb.\n",
      "Converted 04_learner.ipynb.\n",
      "Converted 04_models.ipynb.\n",
      "Converted 06_callback.ipynb.\n"
     ]
    }
   ],
   "source": [
    "#hide\n",
    "from nbdev.export import *\n",
    "notebook2script()"
   ]
  },
  {
   "cell_type": "code",
   "execution_count": null,
   "metadata": {},
   "outputs": [],
   "source": []
  }
 ],
 "metadata": {
  "kernelspec": {
   "display_name": "Python 3",
   "language": "python",
   "name": "python3"
  }
 },
 "nbformat": 4,
 "nbformat_minor": 4
}
