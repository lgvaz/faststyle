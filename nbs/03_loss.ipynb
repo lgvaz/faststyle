{
 "cells": [
  {
   "cell_type": "code",
   "execution_count": null,
   "metadata": {},
   "outputs": [],
   "source": [
    "#default_exp loss"
   ]
  },
  {
   "cell_type": "code",
   "execution_count": null,
   "metadata": {},
   "outputs": [],
   "source": [
    "#export\n",
    "from fastai2.basics import *\n",
    "from faststyle import *"
   ]
  },
  {
   "cell_type": "code",
   "execution_count": null,
   "metadata": {},
   "outputs": [],
   "source": [
    "#export\n",
    "def gram(x):\n",
    "    n,c,h,w = x.size()\n",
    "    x = x.view(n, c, -1)\n",
    "    return (x @ x.transpose(1,2))/(c*h*w)"
   ]
  },
  {
   "cell_type": "code",
   "execution_count": null,
   "metadata": {},
   "outputs": [],
   "source": [
    "#export\n",
    "def StyleLoss(ws=None):\n",
    "  def _inner(fs, y_fs, sims_fs):\n",
    "    assert len(fs)==len(y_fs)==len(sims_fs)\n",
    "    bs = fs[0].shape[0]\n",
    "    sims_gs = L(torch.stack([gram(f) for f in fs]).wmean(ws, dim=0) for fs in sims_fs)\n",
    "    pred_gs = [gram(f) for f in fs]\n",
    "    assert len(sims_gs) == len(pred_gs)\n",
    "    stl_losses = [F.mse_loss(g1.repeat(bs,1,1),g2) for g1,g2 in zip(sims_gs,pred_gs)]\n",
    "    return sum(stl_losses)\n",
    "  return _inner"
   ]
  },
  {
   "cell_type": "code",
   "execution_count": null,
   "metadata": {},
   "outputs": [],
   "source": [
    "#export\n",
    "def ContentLoss():\n",
    "  def _inner(fs, y_fs, sims_fs):\n",
    "    assert len(fs)==len(y_fs)\n",
    "    return sum([F.mse_loss(*o) for o in zip(fs,y_fs)])\n",
    "  return _inner"
   ]
  },
  {
   "cell_type": "code",
   "execution_count": null,
   "metadata": {},
   "outputs": [],
   "source": [
    "#export\n",
    "def TVLoss():      \n",
    "  def _inner(img):\n",
    "    tv_h = ((img[:,:,1:,:] - img[:,:,:-1,:]).pow(2)).mean()\n",
    "    tv_w = ((img[:,:,:,1:] - img[:,:,:,:-1]).pow(2)).mean()    \n",
    "    return (tv_h + tv_w)\n",
    "  return _inner"
   ]
  },
  {
   "cell_type": "code",
   "execution_count": null,
   "metadata": {},
   "outputs": [],
   "source": [
    "#export\n",
    "#TODO: Use @func_kwargs for losses\n",
    "class FastStyleLoss(Module):\n",
    "  def __init__(self, get_fs, stl_w=3e5, cnt_w=1, tv_w=20):\n",
    "    self.stl_loss_fn = StyleLoss()\n",
    "    self.cnt_loss_fn = ContentLoss()\n",
    "    self.tv_loss_fn  = TVLoss()\n",
    "    store_attr(self, 'get_fs,stl_w,cnt_w,tv_w')\n",
    "    self.metric_names = ['stl', 'cnt', 'tv']\n",
    "    self.metrics = L(LossMetrics(self.metric_names))\n",
    "\n",
    "  def forward(self, pred, targ, stl_fts, cnt_fts, **kwargs):\n",
    "    pred_stl_fts,pred_cnt_fts = self.get_fs(pred)\n",
    "    targ_stl_fts,targ_cnt_fts = self.get_fs(targ)\n",
    "    self.stl = self.stl_w*self.stl_loss_fn(pred_stl_fts,targ_stl_fts,stl_fts)\n",
    "    self.cnt = self.cnt_w*self.cnt_loss_fn(pred_cnt_fts,targ_cnt_fts,cnt_fts)\n",
    "    self.tv  = self.tv_w *self.tv_loss_fn(pred)\n",
    "    return self.stl+self.cnt+self.tv"
   ]
  },
  {
   "cell_type": "markdown",
   "metadata": {},
   "source": [
    "## Export -"
   ]
  },
  {
   "cell_type": "code",
   "execution_count": null,
   "metadata": {},
   "outputs": [
    {
     "name": "stdout",
     "output_type": "stream",
     "text": [
      "Converted 00_core.ipynb.\n",
      "Converted 01_data.ipynb.\n",
      "Converted 02_layer_features.ipynb.\n",
      "Converted 03_loss.ipynb.\n",
      "Converted 04_learner.ipynb.\n",
      "Converted 04_models.ipynb.\n",
      "Converted 06_callback.ipynb.\n"
     ]
    }
   ],
   "source": [
    "#hide\n",
    "from nbdev.export import *\n",
    "notebook2script()"
   ]
  },
  {
   "cell_type": "code",
   "execution_count": null,
   "metadata": {},
   "outputs": [],
   "source": []
  }
 ],
 "metadata": {
  "kernelspec": {
   "display_name": "Python 3",
   "language": "python",
   "name": "python3"
  }
 },
 "nbformat": 4,
 "nbformat_minor": 4
}
