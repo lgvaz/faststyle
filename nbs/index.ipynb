{
 "cells": [
  {
   "cell_type": "code",
   "execution_count": null,
   "metadata": {},
   "outputs": [],
   "source": [
    "#hide\n",
    "from faststyle.core import *"
   ]
  },
  {
   "cell_type": "markdown",
   "metadata": {},
   "source": [
    "# faststyle\n",
    "\n",
    "> Faststyle aims to provide an easy and modular interface to Image to Image problems based on [feature loss](https://arxiv.org/abs/1603.08155)."
   ]
  },
  {
   "cell_type": "markdown",
   "metadata": {},
   "source": [
    "## Install"
   ]
  },
  {
   "cell_type": "markdown",
   "metadata": {},
   "source": [
    "Making sure you have a working installation of [fastai2](https://github.com/fastai/fastai2). You can then install the library by doing:\n",
    "```\n",
    "pip install faststyle\n",
    "```\n",
    "\n",
    "You can instead use a editable install, which is more recommended since the lib is chaging a lot:\n",
    "```\n",
    "git clone https://github.com/lgvaz/faststyle.git\n",
    "cd faststyle\n",
    "pip install -e .\n",
    "```"
   ]
  },
  {
   "cell_type": "markdown",
   "metadata": {},
   "source": [
    "## Contributing"
   ]
  },
  {
   "cell_type": "markdown",
   "metadata": {},
   "source": [
    "There are still tons of things to do in the library, you're welcome to contribute. Some of the tasks are listed in the issues, feel free to contact me directly for more info =)  .\n",
    "\n",
    "The library is built with [nbdev](https://github.com/fastai/nbdev), I'm following the coding style used by fastai (the only difference being that I use 2 spaces for indentation instead of 4), take a look at the cotribution guideline [here](https://github.com/fastai/nbdev/blob/master/CONTRIBUTING.md)."
   ]
  }
 ],
 "metadata": {
  "kernelspec": {
   "display_name": "Python 3",
   "language": "python",
   "name": "python3"
  }
 },
 "nbformat": 4,
 "nbformat_minor": 2
}
