{
 "cells": [
  {
   "cell_type": "code",
   "execution_count": null,
   "metadata": {},
   "outputs": [],
   "source": [
    "#default_exp callback"
   ]
  },
  {
   "cell_type": "code",
   "execution_count": null,
   "metadata": {},
   "outputs": [],
   "source": [
    "#export\n",
    "from fastai2.basics import *\n",
    "from fastai2.callback.all import *\n",
    "from faststyle import *"
   ]
  },
  {
   "cell_type": "code",
   "execution_count": null,
   "metadata": {},
   "outputs": [],
   "source": [
    "#export\n",
    "class SourceFeatsCallback(Callback):\n",
    "  def __init__(self, stl_fts, cnt_fts): self.stl_fts, self.cnt_fts = stl_fts,cnt_fts\n",
    "    \n",
    "  def after_pred(self):\n",
    "    self.learn.yb = (*self.yb, self.stl_fts, self.cnt_fts)\n",
    "    \n",
    "  @classmethod\n",
    "  def from_fns(cls, fns, get_feats):\n",
    "    source_tims = L(TensorImage.create(fn) for fn in L(fns))\n",
    "    stl_fts,cnt_fts = zip(*L(get_feats(o[None]) for o in source_tims))\n",
    "    stl_fts,cnt_fts = L(zip(*stl_fts)),L(zip(*cnt_fts))\n",
    "    return cls(stl_fts=stl_fts, cnt_fts=cnt_fts)"
   ]
  },
  {
   "cell_type": "markdown",
   "metadata": {},
   "source": [
    "## Export -"
   ]
  },
  {
   "cell_type": "code",
   "execution_count": null,
   "metadata": {},
   "outputs": [
    {
     "name": "stdout",
     "output_type": "stream",
     "text": [
      "Converted 00_core.ipynb.\n",
      "Converted 01_data.ipynb.\n",
      "Converted 02_layer_features.ipynb.\n",
      "Converted 03_loss.ipynb.\n",
      "Converted 04_learner.ipynb.\n",
      "Converted 04_models.ipynb.\n",
      "Converted 06_callback.ipynb.\n"
     ]
    }
   ],
   "source": [
    "#hide\n",
    "from nbdev.export import *\n",
    "notebook2script()"
   ]
  },
  {
   "cell_type": "code",
   "execution_count": null,
   "metadata": {},
   "outputs": [],
   "source": []
  }
 ],
 "metadata": {
  "kernelspec": {
   "display_name": "Python 3",
   "language": "python",
   "name": "python3"
  }
 },
 "nbformat": 4,
 "nbformat_minor": 4
}
