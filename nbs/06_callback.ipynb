{
 "cells": [
  {
   "cell_type": "code",
   "execution_count": null,
   "metadata": {},
   "outputs": [],
   "source": [
    "#default_exp callback"
   ]
  },
  {
   "cell_type": "code",
   "execution_count": null,
   "metadata": {},
   "outputs": [],
   "source": [
    "#export\n",
    "from fastai2.basics import *\n",
    "from fastai2.callback.all import *\n",
    "from faststyle import *"
   ]
  },
  {
   "cell_type": "markdown",
   "metadata": {},
   "source": [
    "# Custom callbacks\n",
    "> Custom callbacks"
   ]
  },
  {
   "cell_type": "code",
   "execution_count": null,
   "metadata": {},
   "outputs": [],
   "source": [
    "#export\n",
    "# TODO: This allow loss functions to be separated\n",
    "class FeatsCallback(Callback):\n",
    "  def __init__(self, get_fts, stl_fts=None, cnt_fts=None):\n",
    "    store_attr(self, 'get_fts,stl_fts,cnt_fts')\n",
    "    # Change dict with a class. Can be accessed with .\n",
    "    self.fts = dict(pred={}, targ={}, source={})\n",
    "    self.fts['source']['stl'],self.fts['source']['cnt'] = L(stl_fts),L(cnt_fts)\n",
    "    \n",
    "  def after_pred(self):\n",
    "    if len(self.yb) == 0: return\n",
    "    fts = self.fts\n",
    "    fts['pred']['stl'],fts['pred']['cnt'] = self.get_fts(self.pred)\n",
    "    fts['targ']['stl'],fts['targ']['cnt'] = self.get_fts(self.yb[0])\n",
    "    self.learn.yb = (*self.yb, fts)\n",
    "    \n",
    "  @classmethod\n",
    "  def from_fns(cls, fns, get_fts):\n",
    "    source_tims = L(TensorImage.create(fn) for fn in L(fns))\n",
    "    stl_fts,cnt_fts = zip(*L(get_fts(o[None]) for o in source_tims))\n",
    "    stl_fts,cnt_fts = L(zip(*stl_fts)),L(zip(*cnt_fts))\n",
    "    return cls(get_fts=get_fts, stl_fts=stl_fts, cnt_fts=cnt_fts)"
   ]
  },
  {
   "cell_type": "code",
   "execution_count": null,
   "metadata": {},
   "outputs": [],
   "source": [
    "#export\n",
    "class WeightsCallback(Callback):\n",
    "  def after_pred(self):\n",
    "    if len(self.yb) == 0: return \n",
    "    self.yb[1]['ws'] = self.xb[0].ws"
   ]
  },
  {
   "cell_type": "markdown",
   "metadata": {},
   "source": [
    "## Export -"
   ]
  },
  {
   "cell_type": "code",
   "execution_count": null,
   "metadata": {},
   "outputs": [
    {
     "name": "stdout",
     "output_type": "stream",
     "text": [
      "Converted 00_core.ipynb.\n",
      "Converted 01_data.ipynb.\n",
      "Converted 02_layer_features.ipynb.\n",
      "Converted 03_loss.ipynb.\n",
      "Converted 04_models.ipynb.\n",
      "Converted 05_learner.ipynb.\n",
      "Converted 06_callback.ipynb.\n",
      "Converted index.ipynb.\n"
     ]
    }
   ],
   "source": [
    "#hide\n",
    "from nbdev.export import *\n",
    "notebook2script()"
   ]
  },
  {
   "cell_type": "code",
   "execution_count": null,
   "metadata": {},
   "outputs": [],
   "source": []
  }
 ],
 "metadata": {
  "kernelspec": {
   "display_name": "Python 3",
   "language": "python",
   "name": "python3"
  }
 },
 "nbformat": 4,
 "nbformat_minor": 4
}
