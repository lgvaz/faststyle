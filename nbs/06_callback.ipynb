{
 "cells": [
  {
   "cell_type": "code",
   "execution_count": null,
   "metadata": {},
   "outputs": [],
   "source": [
    "#default_exp callback"
   ]
  },
  {
   "cell_type": "code",
   "execution_count": null,
   "metadata": {},
   "outputs": [],
   "source": [
    "#export\n",
    "from fastai2.basics import *\n",
    "from fastai2.callback.all import *\n",
    "from faststyle import *"
   ]
  },
  {
   "cell_type": "code",
   "execution_count": null,
   "metadata": {},
   "outputs": [],
   "source": [
    "class SourceFeatsCallback(Callback):\n",
    "  def __init__(self, feats):\n",
    "    self.feats = feats\n",
    "    \n",
    "  def after_pred(self):\n",
    "    self.learn.yb = (*self.yb, self.feats)"
   ]
  },
  {
   "cell_type": "code",
   "execution_count": null,
   "metadata": {},
   "outputs": [],
   "source": [
    "#export\n",
    "class StyleFsCallback(Callback):\n",
    "  def __init__(self, fns, get_fs, tfms=None): \n",
    "    self.sims_fs = [get_fs(o) for o in _get_ims(fns)]\n",
    "    \n",
    "  def after_pred(self):\n",
    "    self.learn.yb = (*self.yb, self.sims_fs)"
   ]
  },
  {
   "cell_type": "markdown",
   "metadata": {},
   "source": [
    "## Export -"
   ]
  },
  {
   "cell_type": "code",
   "execution_count": null,
   "metadata": {},
   "outputs": [
    {
     "name": "stdout",
     "output_type": "stream",
     "text": [
      "Converted 00_core.ipynb.\n",
      "Converted 01_data.ipynb.\n",
      "Converted 02_loss.ipynb.\n",
      "Converted 03_models.ipynb.\n",
      "Converted 04_learner.ipynb.\n",
      "Converted 05_callback.ipynb.\n"
     ]
    }
   ],
   "source": [
    "#hide\n",
    "from nbdev.export import *\n",
    "notebook2script()"
   ]
  }
 ],
 "metadata": {
  "kernelspec": {
   "display_name": "Python 3",
   "language": "python",
   "name": "python3"
  }
 },
 "nbformat": 4,
 "nbformat_minor": 4
}
