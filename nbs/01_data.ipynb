{
 "cells": [
  {
   "cell_type": "code",
   "execution_count": null,
   "metadata": {},
   "outputs": [],
   "source": [
    "#default_exp data"
   ]
  },
  {
   "cell_type": "code",
   "execution_count": null,
   "metadata": {},
   "outputs": [],
   "source": [
    "#export\n",
    "from fastai2.basics import *"
   ]
  },
  {
   "cell_type": "code",
   "execution_count": null,
   "metadata": {},
   "outputs": [],
   "source": [
    "#export\n",
    "class IncrementalSplitter:\n",
    "  'Dynamically changes pct of data used without mixing train and val data'\n",
    "  @delegates(RandomSplitter)\n",
    "  def __init__(self, pct=1., **kwargs):\n",
    "    self.pct = pct\n",
    "    seed = kwargs.pop('seed', None) or random.randint(0,1e6)\n",
    "    self._splitter = RandomSplitter(seed=seed, **kwargs)\n",
    "    \n",
    "  def __call__(self, o, **kwargs):\n",
    "    tidxs, vidxs = self._splitter(o, **kwargs)\n",
    "    random.shuffle(tidxs); random.shuffle(vidxs)\n",
    "    return tidxs[:int(len(tidxs)*self.pct)], vidxs[:int(len(vidxs)*self.pct)]"
   ]
  },
  {
   "cell_type": "code",
   "execution_count": null,
   "metadata": {},
   "outputs": [],
   "source": [
    "items = np.arange(1000)\n",
    "splitter = IncrementalSplitter()\n",
    "t1,v1 = splitter(items)\n",
    "t2,v2 = splitter(items)\n",
    "test_eq(set(t1), set(t2))\n",
    "test_eq(set(v1), set(v2))"
   ]
  },
  {
   "cell_type": "markdown",
   "metadata": {},
   "source": [
    "### Calculate coco variance"
   ]
  },
  {
   "cell_type": "code",
   "execution_count": null,
   "metadata": {},
   "outputs": [],
   "source": [
    "# coco = untar_data(URLs.COCO_SAMPLE)\n",
    "# dset = Datasets(get_image_files(coco), tfms=[PILImage.create])\n",
    "# dl = dset.dataloaders(after_item=[ToTensor(), Resize(512)], after_batch=[IntToFloatTensor()])\n",
    "# c_mean = partial(torch.mean, axis=[0,2,3])\n",
    "# c_std = partial(torch.std, axis=[0,2,3])\n",
    "# means,stds = zip(*[(c_mean(x[0]),c_std(x[0])) for x in progress_bar(dl.train)])\n",
    "# mean = torch.stack(means).mean(axis=0)\n",
    "# std  = torch.stack(stds).pow(2).mean(axis=0).sqrt()"
   ]
  },
  {
   "cell_type": "code",
   "execution_count": null,
   "metadata": {},
   "outputs": [],
   "source": [
    "#export\n",
    "coco_stats = ([0.4605, 0.4101, 0.3642], [0.2780, 0.2701, 0.2741])"
   ]
  },
  {
   "cell_type": "markdown",
   "metadata": {},
   "source": [
    "## Export - "
   ]
  },
  {
   "cell_type": "code",
   "execution_count": null,
   "metadata": {},
   "outputs": [
    {
     "name": "stdout",
     "output_type": "stream",
     "text": [
      "Converted 00_core.ipynb.\n",
      "Converted 01_data.ipynb.\n",
      "Converted 02_loss.ipynb.\n",
      "Converted 03_models.ipynb.\n",
      "Converted Untitled.ipynb.\n",
      "Converted Untitled1.ipynb.\n"
     ]
    }
   ],
   "source": [
    "#hide\n",
    "from nbdev.export import *\n",
    "notebook2script()"
   ]
  },
  {
   "cell_type": "code",
   "execution_count": null,
   "metadata": {},
   "outputs": [],
   "source": []
  }
 ],
 "metadata": {
  "kernelspec": {
   "display_name": "Python 3",
   "language": "python",
   "name": "python3"
  }
 },
 "nbformat": 4,
 "nbformat_minor": 4
}
