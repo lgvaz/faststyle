{
 "cells": [
  {
   "cell_type": "code",
   "execution_count": null,
   "metadata": {},
   "outputs": [],
   "source": [
    "#default_exp data"
   ]
  },
  {
   "cell_type": "code",
   "execution_count": null,
   "metadata": {},
   "outputs": [],
   "source": [
    "#export\n",
    "from fastai.basics import *\n",
    "from fastai.vision.all import *\n",
    "from faststyle import *"
   ]
  },
  {
   "cell_type": "markdown",
   "metadata": {},
   "source": [
    "# Data\n",
    "> New image types and transforms."
   ]
  },
  {
   "cell_type": "code",
   "execution_count": null,
   "metadata": {},
   "outputs": [],
   "source": [
    "#export\n",
    "class IncrementalSplitter:\n",
    "  'Dynamically changes pct of data used without mixing train and val data'\n",
    "  @delegates(RandomSplitter)\n",
    "  def __init__(self, pct=1., **kwargs):\n",
    "    self.pct = pct\n",
    "    seed = kwargs.pop('seed', None) or random.randint(0,1e6)\n",
    "    self._splitter = RandomSplitter(seed=seed, **kwargs)\n",
    "    \n",
    "  def __call__(self, o, **kwargs):\n",
    "    tidxs, vidxs = self._splitter(o, **kwargs)\n",
    "    random.shuffle(tidxs); random.shuffle(vidxs)\n",
    "    return tidxs[:int(len(tidxs)*self.pct)], vidxs[:int(len(vidxs)*self.pct)]"
   ]
  },
  {
   "cell_type": "code",
   "execution_count": null,
   "metadata": {},
   "outputs": [],
   "source": [
    "items = np.arange(1000)\n",
    "splitter = IncrementalSplitter()\n",
    "t1,v1 = splitter(items)\n",
    "t2,v2 = splitter(items)\n",
    "test_eq(set(t1), set(t2))\n",
    "test_eq(set(v1), set(v2))"
   ]
  },
  {
   "cell_type": "markdown",
   "metadata": {},
   "source": [
    "## New types"
   ]
  },
  {
   "cell_type": "code",
   "execution_count": null,
   "metadata": {},
   "outputs": [],
   "source": [
    "#export\n",
    "class TensorImageX(TensorImage): pass"
   ]
  },
  {
   "cell_type": "code",
   "execution_count": null,
   "metadata": {},
   "outputs": [],
   "source": [
    "#export\n",
    "class PILImageX(PILImage): pass\n",
    "PILImageX._tensor_cls = TensorImageX"
   ]
  },
  {
   "cell_type": "code",
   "execution_count": null,
   "metadata": {},
   "outputs": [],
   "source": [
    "#export\n",
    "class NormalizeX(Normalize):\n",
    "  def encodes(self, x:TensorImage, **kwargs): return x\n",
    "  def decodes(self, x:TensorImage, **kwargs): return x\n",
    "  \n",
    "  def encodes(self, x:TensorImageX, **kwargs): return super().encodes(x, **kwargs)\n",
    "  def decodes(self, x:TensorImageX, **kwargs): return super().decodes(x, **kwargs)"
   ]
  },
  {
   "cell_type": "code",
   "execution_count": null,
   "metadata": {},
   "outputs": [
    {
     "data": {
      "image/png": "[encoded data removed]",
      "text/plain": [
       "<PIL.Image.Image image mode=RGB size=64x64 at 0x7F8F10217B50>"
      ]
     },
     "execution_count": null,
     "metadata": {},
     "output_type": "execute_result"
    }
   ],
   "source": [
    "img = PILImage.create(TEST_IMAGE).resize((64,64)); img"
   ]
  },
  {
   "cell_type": "code",
   "execution_count": null,
   "metadata": {},
   "outputs": [],
   "source": [
    "t = image2tensor(img)\n",
    "tim, timx = map(IntToFloatTensor(), (TensorImage(t), TensorImageX(t)))\n",
    "mean,std = [.5]*3,[.5]*3\n",
    "mean,std = broadcast_vec(1, 4, mean, std, cuda=False)"
   ]
  },
  {
   "cell_type": "code",
   "execution_count": null,
   "metadata": {},
   "outputs": [],
   "source": [
    "batch_tfms = [NormalizeX(mean,std)]\n",
    "tdl = TfmdDL([(timx,tim)], after_batch=batch_tfms, bs=1)"
   ]
  },
  {
   "cell_type": "code",
   "execution_count": null,
   "metadata": {},
   "outputs": [],
   "source": [
    "x,y = tdl.one_batch()\n",
    "test_close(y.mean(), tim.mean())\n",
    "test_close(x.mean(), (timx.mean()-.5)/.5)"
   ]
  },
  {
   "cell_type": "code",
   "execution_count": null,
   "metadata": {},
   "outputs": [],
   "source": [
    "#export\n",
    "style_blocks = ImageBlock(PILImageX), ImageBlock()"
   ]
  },
  {
   "cell_type": "code",
   "execution_count": null,
   "metadata": {},
   "outputs": [],
   "source": [
    "#export\n",
    "class NormalizeAll(Normalize):\n",
    "  def encodes(self, x:Tensor, **kwargs): return super().encodes[TensorImage](self, x, **kwargs)\n",
    "  def decodes(self, x:Tensor, **kwargs): return super().decodes[TensorImage](self, x, **kwargs)"
   ]
  },
  {
   "cell_type": "code",
   "execution_count": null,
   "metadata": {},
   "outputs": [],
   "source": [
    "batch_tfms = NormalizeAll(mean,std)\n",
    "tdl = TfmdDL([(cast(tim, Tensor),tim)], after_batch=batch_tfms, bs=1)"
   ]
  },
  {
   "cell_type": "code",
   "execution_count": null,
   "metadata": {},
   "outputs": [],
   "source": [
    "x,y = tdl.one_batch()\n",
    "test_close(x,y)\n",
    "test_close(x.mean(), (tim.mean()-.5)/.5)"
   ]
  },
  {
   "cell_type": "markdown",
   "metadata": {},
   "source": [
    "### Weights"
   ]
  },
  {
   "cell_type": "code",
   "execution_count": null,
   "metadata": {},
   "outputs": [],
   "source": [
    "#export\n",
    "def random_weights(*size):\n",
    "  x = torch.rand(*size)\n",
    "  return x / x.sum()"
   ]
  },
  {
   "cell_type": "code",
   "execution_count": null,
   "metadata": {},
   "outputs": [],
   "source": [
    "#export\n",
    "class Weights(TensorBase, ShowTitle):\n",
    "  _show_args = {'label': 'weights'}\n",
    "  @classmethod\n",
    "  def create(cls, x):  return cls(x)"
   ]
  },
  {
   "cell_type": "markdown",
   "metadata": {},
   "source": [
    "### ImageWeight"
   ]
  },
  {
   "cell_type": "code",
   "execution_count": null,
   "metadata": {},
   "outputs": [],
   "source": [
    "#export\n",
    "class ImageWeight(fastuple):\n",
    "  @classmethod\n",
    "  def create(cls, fnw, imcls=PILImageX): return cls(imcls.create(fnw[0]), Weights(fnw[1]))\n",
    "  def show(self, ctx=None, **kwargs): return show_titled_image(self, ctx=ctx, **kwargs)\n",
    "ImageWeight.im, ImageWeight.ws = add_props(lambda i,x: x[i])"
   ]
  },
  {
   "cell_type": "code",
   "execution_count": null,
   "metadata": {},
   "outputs": [],
   "source": [
    "#export\n",
    "class RandomizeWeights(RandTransform):\n",
    "  def encodes(self, x:Weights):\n",
    "    x.data = random_weights(*x.shape)\n",
    "    return x"
   ]
  },
  {
   "cell_type": "markdown",
   "metadata": {},
   "source": [
    "### Visualization functions"
   ]
  },
  {
   "cell_type": "code",
   "execution_count": null,
   "metadata": {},
   "outputs": [],
   "source": [
    "#export\n",
    "@typedispatch\n",
    "def show_batch(x:ImageWeight, y:TensorImage, samples, **kwargs):\n",
    "  return show_batch.funcs[TensorImage][TensorImage](x, y, samples, **kwargs)"
   ]
  },
  {
   "cell_type": "code",
   "execution_count": null,
   "metadata": {},
   "outputs": [],
   "source": [
    "#export\n",
    "@typedispatch\n",
    "def show_results(x:ImageWeight, y:TensorImage, samples, outs, **kwargs):\n",
    "  return show_results.funcs[TensorImage][TensorImage](x, y, samples, outs, **kwargs)"
   ]
  },
  {
   "cell_type": "markdown",
   "metadata": {},
   "source": [
    "### Calculates coco variance"
   ]
  },
  {
   "cell_type": "code",
   "execution_count": null,
   "metadata": {},
   "outputs": [],
   "source": [
    "# coco = untar_data(URLs.COCO_SAMPLE)\n",
    "# dset = Datasets(get_image_files(coco), tfms=[PILImage.create])\n",
    "# dl = dset.dataloaders(after_item=[ToTensor(), Resize(512)], after_batch=[IntToFloatTensor()])\n",
    "# c_mean = partial(torch.mean, axis=[0,2,3])\n",
    "# c_std = partial(torch.std, axis=[0,2,3])\n",
    "# means,stds = zip(*[(c_mean(x[0]),c_std(x[0])) for x in progress_bar(dl.train)])\n",
    "# mean = torch.stack(means).mean(axis=0)\n",
    "# std  = torch.stack(stds).pow(2).mean(axis=0).sqrt()"
   ]
  },
  {
   "cell_type": "code",
   "execution_count": null,
   "metadata": {},
   "outputs": [],
   "source": [
    "#export\n",
    "coco_stats = ([0.4605, 0.4101, 0.3642], [0.2780, 0.2701, 0.2741])"
   ]
  },
  {
   "cell_type": "markdown",
   "metadata": {},
   "source": [
    "## Export - "
   ]
  },
  {
   "cell_type": "code",
   "execution_count": null,
   "metadata": {},
   "outputs": [
    {
     "name": "stdout",
     "output_type": "stream",
     "text": [
      "Converted 00_core.ipynb.\n",
      "Converted 01_data.ipynb.\n",
      "Converted 02_layer_features.ipynb.\n",
      "Converted 03_loss.ipynb.\n",
      "Converted 04_models.ipynb.\n",
      "Converted 05_learner.ipynb.\n",
      "Converted 06_callback.ipynb.\n",
      "Converted index.ipynb.\n"
     ]
    }
   ],
   "source": [
    "#hide\n",
    "from nbdev.export import *\n",
    "notebook2script()"
   ]
  },
  {
   "cell_type": "code",
   "execution_count": null,
   "metadata": {},
   "outputs": [],
   "source": []
  }
 ],
 "metadata": {
  "kernelspec": {
   "display_name": "Python 3",
   "language": "python",
   "name": "python3"
  }
 },
 "nbformat": 4,
 "nbformat_minor": 4
}
