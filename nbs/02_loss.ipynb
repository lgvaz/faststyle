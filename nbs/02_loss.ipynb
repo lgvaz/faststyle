{
 "cells": [
  {
   "cell_type": "code",
   "execution_count": null,
   "metadata": {},
   "outputs": [],
   "source": [
    "#default_exp loss"
   ]
  },
  {
   "cell_type": "code",
   "execution_count": null,
   "metadata": {},
   "outputs": [],
   "source": [
    "#export\n",
    "from fastai2.basics import *\n",
    "from fastai2.callback.all import *\n",
    "from torchvision.models import vgg16, vgg19"
   ]
  },
  {
   "cell_type": "code",
   "execution_count": null,
   "metadata": {},
   "outputs": [],
   "source": [
    "#export\n",
    "def gram(x):\n",
    "    n,c,h,w = x.size()\n",
    "    x = x.view(n, c, -1)\n",
    "    return (x @ x.transpose(1,2))/(c*h*w)"
   ]
  },
  {
   "cell_type": "code",
   "execution_count": null,
   "metadata": {},
   "outputs": [],
   "source": [
    "#export\n",
    "#TODO: hardcoded model\n",
    "feat_m = vgg19(True).features.cuda().eval()\n",
    "for p in feat_m.parameters(): p.requires_grad=False"
   ]
  },
  {
   "cell_type": "code",
   "execution_count": null,
   "metadata": {},
   "outputs": [],
   "source": [
    "#export\n",
    "def VggFeats(layers):\n",
    "  hooks = hook_outputs(layers, detach=False)\n",
    "  def _inner(x):\n",
    "    feat_m(x)\n",
    "    return hooks.stored\n",
    "  return _inner"
   ]
  },
  {
   "cell_type": "code",
   "execution_count": null,
   "metadata": {},
   "outputs": [],
   "source": [
    "#export\n",
    "#TODO: hardcoded layers\n",
    "# layers = [feat_m[i] for i in [1, 11, 18, 25, 20]]; layers # vgg16\n",
    "layers = [feat_m[i] for i in [1, 6, 11, 20, 29, 22]]; layers # vgg19\n",
    "get_fs = VggFeats(layers)"
   ]
  },
  {
   "cell_type": "code",
   "execution_count": null,
   "metadata": {},
   "outputs": [],
   "source": [
    "#export\n",
    "#TODO: hardcoded layers\n",
    "def get_stl_fs(fs): return fs[:-1]\n",
    "def get_cnt_fs(fs): return fs[-1:]"
   ]
  },
  {
   "cell_type": "code",
   "execution_count": null,
   "metadata": {},
   "outputs": [],
   "source": [
    "#export\n",
    "def cnt_loss_fn(fs, y_fs):\n",
    "  return sum([F.mse_loss(*o) for o in zip(*map(get_cnt_fs, [fs,y_fs]))])"
   ]
  },
  {
   "cell_type": "code",
   "execution_count": null,
   "metadata": {},
   "outputs": [],
   "source": [
    "#export\n",
    "#TODO: hardcoded stl_loss_mult\n",
    "def get_style_loss_fn(style_tims):\n",
    "  stl_fs = [get_fs(im) for im in style_tims]\n",
    "  # TODO: Weighted mean\n",
    "  stl_grams = [torch.stack([gram(x) for x in stl_t]).mean(axis=0) for stl_t in zip(*stl_fs)]\n",
    "  def stl_loss_fn(fs, y_fs):\n",
    "    bs = fs[0].shape[0]\n",
    "    stl_losses = [F.mse_loss(y_gram.repeat(bs,1,1),gram(f)) for y_gram,f in zip(*map(get_stl_fs, [stl_grams, fs]))]\n",
    "    return 3e5*sum(stl_losses)\n",
    "  return stl_loss_fn"
   ]
  },
  {
   "cell_type": "code",
   "execution_count": null,
   "metadata": {},
   "outputs": [],
   "source": [
    "#export\n",
    "#TODO: hardcoded tv_loss_mult\n",
    "def tv_loss_fn(img):      \n",
    "  tv_h = ((img[:,:,1:,:] - img[:,:,:-1,:]).pow(2)).mean()\n",
    "  tv_w = ((img[:,:,:,1:] - img[:,:,:,:-1]).pow(2)).mean()    \n",
    "  return 20*(tv_h + tv_w)"
   ]
  },
  {
   "cell_type": "code",
   "execution_count": null,
   "metadata": {},
   "outputs": [],
   "source": [
    "#export\n",
    "class FSTLoss(Module):\n",
    "  def __init__(self, get_fs, stl_loss_fn, cnt_loss_fn, tv_loss_fn):\n",
    "    super().__init__()\n",
    "    store_attr(self, 'get_fs,stl_loss_fn,cnt_loss_fn,tv_loss_fn')\n",
    "    self.metric_names = ['stl', 'cnt', 'tv']\n",
    "\n",
    "  def forward(self, pred, targ, **kwargs):\n",
    "    pred_feats,targ_feats = self.get_fs(pred),self.get_fs(targ)\n",
    "    assert not (pred_feats[0] == targ_feats[0]).all()\n",
    "    self.stl = self.stl_loss_fn(pred_feats, targ_feats)\n",
    "    self.cnt = self.cnt_loss_fn(pred_feats, targ_feats)\n",
    "    self.tv  = self.tv_loss_fn (pred)\n",
    "    return self.stl+self.cnt+self.tv"
   ]
  },
  {
   "cell_type": "code",
   "execution_count": null,
   "metadata": {},
   "outputs": [],
   "source": [
    "#export\n",
    "def get_loss_func(style_tims):\n",
    "  stl_loss_fn = get_style_loss_fn(style_tims)\n",
    "  return FSTLoss(get_fs, stl_loss_fn, cnt_loss_fn, tv_loss_fn)"
   ]
  },
  {
   "cell_type": "markdown",
   "metadata": {},
   "source": [
    "## Export -"
   ]
  },
  {
   "cell_type": "code",
   "execution_count": null,
   "metadata": {},
   "outputs": [
    {
     "name": "stdout",
     "output_type": "stream",
     "text": [
      "Converted 00_core.ipynb.\n",
      "Converted 01_data.ipynb.\n",
      "Converted 02_loss.ipynb.\n",
      "Converted 03_models.ipynb.\n",
      "Converted Untitled.ipynb.\n",
      "Converted Untitled1.ipynb.\n"
     ]
    }
   ],
   "source": [
    "#hide\n",
    "from nbdev.export import *\n",
    "notebook2script()"
   ]
  },
  {
   "cell_type": "code",
   "execution_count": null,
   "metadata": {},
   "outputs": [],
   "source": []
  }
 ],
 "metadata": {
  "kernelspec": {
   "display_name": "Python 3",
   "language": "python",
   "name": "python3"
  }
 },
 "nbformat": 4,
 "nbformat_minor": 4
}
