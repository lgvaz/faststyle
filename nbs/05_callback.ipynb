{
 "cells": [
  {
   "cell_type": "code",
   "execution_count": null,
   "metadata": {},
   "outputs": [],
   "source": [
    "#default_exp callback"
   ]
  },
  {
   "cell_type": "code",
   "execution_count": null,
   "metadata": {},
   "outputs": [],
   "source": [
    "#export\n",
    "from fastai2.basics import *\n",
    "from fastai2.callback.all import *\n",
    "from fastai2.vision.all import *\n",
    "from torchvision.models import vgg16, vgg19\n",
    "from faststyle import *"
   ]
  },
  {
   "cell_type": "code",
   "execution_count": null,
   "metadata": {},
   "outputs": [],
   "source": [
    "#export\n",
    "#TODO: hardcoded model\n",
    "feat_m = vgg19(True).features.cuda().eval()\n",
    "for p in feat_m.parameters(): p.requires_grad=False"
   ]
  },
  {
   "cell_type": "code",
   "execution_count": null,
   "metadata": {},
   "outputs": [],
   "source": [
    "#export\n",
    "def VggFeats(layers):\n",
    "  hooks = hook_outputs(layers, detach=False)\n",
    "  def _inner(x):\n",
    "    feat_m(x)\n",
    "    return hooks.stored\n",
    "  return _inner"
   ]
  },
  {
   "cell_type": "code",
   "execution_count": null,
   "metadata": {},
   "outputs": [],
   "source": [
    "#export\n",
    "#TODO: hardcoded layers\n",
    "# layers = [feat_m[i] for i in [1, 11, 18, 25, 20]]; layers # vgg16\n",
    "layers = [feat_m[i] for i in [1, 6, 11, 20, 29, 22]]; layers # vgg19\n",
    "get_fs = VggFeats(layers)"
   ]
  },
  {
   "cell_type": "code",
   "execution_count": null,
   "metadata": {},
   "outputs": [],
   "source": [
    "#export\n",
    "def _get_ims(fns):\n",
    "  t = TfmdLists(fns, tfms=[PILImage.create, ToTensor(), IntToFloatTensor(), \n",
    "                               Normalize.from_stats(*coco_stats, cuda=False)])\n",
    "  return [o.to(default_device()) for o in t]"
   ]
  },
  {
   "cell_type": "code",
   "execution_count": null,
   "metadata": {},
   "outputs": [],
   "source": [
    "#export\n",
    "class StyleFsCallback(Callback):\n",
    "  def __init__(self, fns, get_fs, tfms=None): \n",
    "    self.sims_fs = [get_fs(o) for o in _get_ims(fns)]\n",
    "    \n",
    "  def after_pred(self):\n",
    "    self.learn.yb = (*self.yb, self.sims_fs)"
   ]
  },
  {
   "cell_type": "markdown",
   "metadata": {},
   "source": [
    "## Export -"
   ]
  },
  {
   "cell_type": "code",
   "execution_count": null,
   "metadata": {},
   "outputs": [
    {
     "name": "stdout",
     "output_type": "stream",
     "text": [
      "Converted 00_core.ipynb.\n",
      "Converted 01_data.ipynb.\n",
      "Converted 02_loss.ipynb.\n",
      "Converted 03_models.ipynb.\n",
      "Converted 04_learner.ipynb.\n",
      "Converted 05_callback.ipynb.\n"
     ]
    }
   ],
   "source": [
    "#hide\n",
    "from nbdev.export import *\n",
    "notebook2script()"
   ]
  }
 ],
 "metadata": {
  "kernelspec": {
   "display_name": "Python 3",
   "language": "python",
   "name": "python3"
  }
 },
 "nbformat": 4,
 "nbformat_minor": 4
}
