{
 "cells": [
  {
   "cell_type": "code",
   "execution_count": null,
   "metadata": {},
   "outputs": [],
   "source": [
    "from fastai2.basics import *\n",
    "from fastai2.vision.all import *\n",
    "from faststyle import *"
   ]
  },
  {
   "cell_type": "code",
   "execution_count": null,
   "metadata": {},
   "outputs": [],
   "source": [
    "source = untar_data(URLs.COCO_SAMPLE)"
   ]
  },
  {
   "cell_type": "code",
   "execution_count": null,
   "metadata": {},
   "outputs": [],
   "source": [
    "stl_loss_mult = 3e5"
   ]
  },
  {
   "cell_type": "code",
   "execution_count": null,
   "metadata": {},
   "outputs": [],
   "source": [
    "style_dir = Path('../styles')"
   ]
  },
  {
   "cell_type": "code",
   "execution_count": null,
   "metadata": {},
   "outputs": [],
   "source": [
    "splitter = IncrementalSplitter()"
   ]
  },
  {
   "cell_type": "code",
   "execution_count": null,
   "metadata": {},
   "outputs": [],
   "source": [
    "def get_dl(bs, sz, path, pct=1., seed=None):\n",
    "  splitter.pct = pct\n",
    "  dblock = DataBlock(blocks=(ImageBlock, ImageBlock), get_items=get_image_files, splitter=splitter, \n",
    "                     item_tfms=[Resize(sz)], batch_tfms=[Normalize()])\n",
    "  return dblock.dataloaders(path, bs=bs)"
   ]
  },
  {
   "cell_type": "code",
   "execution_count": null,
   "metadata": {},
   "outputs": [],
   "source": [
    "#TODO: hardcoded cuda\n",
    "m = TransformerNet().cuda()"
   ]
  },
  {
   "cell_type": "code",
   "execution_count": null,
   "metadata": {},
   "outputs": [],
   "source": [
    "style_fns = L(style_dir/'starry_night.jpg', style_dir/'scream.jpg')"
   ]
  },
  {
   "cell_type": "code",
   "execution_count": null,
   "metadata": {},
   "outputs": [],
   "source": [
    "t = TfmdLists(style_fns, tfms=[PILImage.create, ToTensor(), IntToFloatTensor(), \n",
    "                               Normalize.from_stats(*coco_stats, cuda=False)])\n",
    "style_tims = [o.to(default_device()) for o in t]"
   ]
  },
  {
   "cell_type": "code",
   "execution_count": null,
   "metadata": {},
   "outputs": [],
   "source": [
    "loss_func = get_loss_func(style_tims)\n",
    "opt_func = Adam"
   ]
  },
  {
   "cell_type": "code",
   "execution_count": null,
   "metadata": {},
   "outputs": [],
   "source": [
    "sname = '_'.join(style_fns.map(lambda x: x.stem))\n",
    "model_name = f'{sname}-{stl_loss_mult:.0e}'\n",
    "# szs_bss = [(256,22), (512,8), (1024,2), (1700, 1)]\n",
    "szs_bss = [(256,11), (512,8), (1024,2), (1700, 1)]\n",
    "lrs = [1e-3, 1e-3, 5e-4, 5e-5]\n",
    "pcts = [1., .8, .6, .3]"
   ]
  },
  {
   "cell_type": "code",
   "execution_count": null,
   "metadata": {},
   "outputs": [],
   "source": [
    "get_style_learner = partial(Learner, loss_func=loss_func, opt_func=opt_func, metrics=LossMetrics(loss_func.metric_names))"
   ]
  },
  {
   "cell_type": "code",
   "execution_count": null,
   "metadata": {},
   "outputs": [],
   "source": [
    "# TODO: Write callback that predicts images on epoch final\n",
    "# TODO: Write callback that can substitute IncrementalSplitter"
   ]
  },
  {
   "cell_type": "code",
   "execution_count": null,
   "metadata": {},
   "outputs": [],
   "source": [
    "import gc\n",
    "# Need path on get_dl\n",
    "def get_learner(sz, bs, pct=1., opt_func=Adam):\n",
    "  learn = None; gc.collect() # Clear memory\n",
    "  learn = get_style_learner(get_dl(bs,sz,pct=pct,path=source), m).to_fp16()\n",
    "  return learn"
   ]
  },
  {
   "cell_type": "code",
   "execution_count": null,
   "metadata": {},
   "outputs": [
    {
     "data": {
      "text/html": [
       "\n",
       "    <div>\n",
       "        <style>\n",
       "            /* Turns off some styling */\n",
       "            progress {\n",
       "                /* gets rid of default border in Firefox and Opera. */\n",
       "                border: none;\n",
       "                /* Needs to be in here for Safari polyfill so background images work as expected. */\n",
       "                background-size: auto;\n",
       "            }\n",
       "            .progress-bar-interrupted, .progress-bar-interrupted::-webkit-progress-bar {\n",
       "                background: #F44336;\n",
       "            }\n",
       "        </style>\n",
       "      <progress value='0' class='' max='1', style='width:300px; height:20px; vertical-align: middle;'></progress>\n",
       "      0.00% [0/1 00:00<00:00]\n",
       "    </div>\n",
       "    \n",
       "<table border=\"1\" class=\"dataframe\">\n",
       "  <thead>\n",
       "    <tr style=\"text-align: left;\">\n",
       "      <th>epoch</th>\n",
       "      <th>train_loss</th>\n",
       "      <th>valid_loss</th>\n",
       "      <th>stl</th>\n",
       "      <th>cnt</th>\n",
       "      <th>tv</th>\n",
       "      <th>time</th>\n",
       "    </tr>\n",
       "  </thead>\n",
       "  <tbody>\n",
       "  </tbody>\n",
       "</table><p>\n",
       "\n",
       "    <div>\n",
       "        <style>\n",
       "            /* Turns off some styling */\n",
       "            progress {\n",
       "                /* gets rid of default border in Firefox and Opera. */\n",
       "                border: none;\n",
       "                /* Needs to be in here for Safari polyfill so background images work as expected. */\n",
       "                background-size: auto;\n",
       "            }\n",
       "            .progress-bar-interrupted, .progress-bar-interrupted::-webkit-progress-bar {\n",
       "                background: #F44336;\n",
       "            }\n",
       "        </style>\n",
       "      <progress value='57' class='' max='1588', style='width:300px; height:20px; vertical-align: middle;'></progress>\n",
       "      3.59% [57/1588 00:37<16:42 231.9499]\n",
       "    </div>\n",
       "    "
      ],
      "text/plain": [
       "<IPython.core.display.HTML object>"
      ]
     },
     "metadata": {},
     "output_type": "display_data"
    }
   ],
   "source": [
    "for i in range(len(szs_bss)):\n",
    "  learn = get_learner(*szs_bss[i], pct=pcts[i])\n",
    "  if i!=0: learn.load(f'{model_name}-{szs_bss[i-1][0]}')\n",
    "  learn.fit_one_cycle(1, lrs[i], pct_start=0.75)\n",
    "  learn.save(f'{model_name}-{szs_bss[i][0]}')"
   ]
  },
  {
   "cell_type": "code",
   "execution_count": null,
   "metadata": {},
   "outputs": [],
   "source": []
  }
 ],
 "metadata": {
  "kernelspec": {
   "display_name": "Python 3",
   "language": "python",
   "name": "python3"
  }
 },
 "nbformat": 4,
 "nbformat_minor": 4
}
