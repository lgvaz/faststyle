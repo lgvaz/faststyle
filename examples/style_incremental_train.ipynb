{
 "cells": [
  {
   "cell_type": "markdown",
   "metadata": {},
   "source": [
    "<a href=\"https://colab.research.google.com/github/lgvaz/faststyle/blob/master/examples/style_incremental_train.ipynb\" target=\"_parent\"><img src=\"https://colab.research.google.com/assets/colab-badge.svg\" alt=\"Open In Colab\"/></a>"
   ]
  },
  {
   "cell_type": "code",
   "execution_count": null,
   "metadata": {},
   "outputs": [],
   "source": [
    "# !nvidia-smi"
   ]
  },
  {
   "cell_type": "code",
   "execution_count": null,
   "metadata": {},
   "outputs": [],
   "source": [
    "import gc\n",
    "try:\n",
    "  from fastai.basics import *\n",
    "  from fastai.vision.all import *\n",
    "  from faststyle import *\n",
    "except ImportError:\n",
    "  !pip install -q git+git://github.com/fastai/fastcore.git\n",
    "  !pip install -q git+git://github.com/fastai/fastai.git\n",
    "  !pip install -q git+https://github.com/lgvaz/faststyle.git"
   ]
  },
  {
   "cell_type": "code",
   "execution_count": null,
   "metadata": {},
   "outputs": [],
   "source": [
    "try:\n",
    "  from google.colab import drive\n",
    "  drive.mount('/content/gdrive', force_remount=True)\n",
    "  root_dir = Path('/content/gdrive/My Drive/')\n",
    "except ImportError:\n",
    "  root_dir = Path('.')"
   ]
  },
  {
   "cell_type": "code",
   "execution_count": null,
   "metadata": {},
   "outputs": [],
   "source": [
    "source = untar_data(URLs.COCO_SAMPLE)"
   ]
  },
  {
   "cell_type": "code",
   "execution_count": null,
   "metadata": {},
   "outputs": [],
   "source": [
    "# Fix styles for colab\n",
    "style_dir = Path('styles')\n",
    "style_fns = L('abstract_digital1.jpg', 'udnie.jpg')\n",
    "style_fns = style_fns.map(lambda o: style_dir/o)\n",
    "show_images([PILImage.create(fn) for fn in style_fns])"
   ]
  },
  {
   "cell_type": "code",
   "execution_count": null,
   "metadata": {},
   "outputs": [],
   "source": [
    "splitter = RandomSplitter(.1, seed=random.randint(0,1e6))\n",
    "def get_dls(sz,bs):\n",
    "  dblock = DataBlock(style_blocks, get_items=get_image_files, splitter=splitter,\n",
    "                     item_tfms=[Resize(sz)],\n",
    "                     batch_tfms=[*aug_transforms(), NormalizeX.from_stats(*coco_stats)])\n",
    "  return dblock.dataloaders(source, bs=bs)"
   ]
  },
  {
   "cell_type": "code",
   "execution_count": null,
   "metadata": {},
   "outputs": [],
   "source": [
    "get_dls(128,bs=1).show_batch()"
   ]
  },
  {
   "cell_type": "code",
   "execution_count": null,
   "metadata": {},
   "outputs": [],
   "source": [
    "get_feats = LayerFeats.from_feat_m(FeatModels.vgg19)"
   ]
  },
  {
   "cell_type": "code",
   "execution_count": null,
   "metadata": {},
   "outputs": [],
   "source": [
    "# TODO: Should go together with drive import or something\n",
    "save_dir = root_dir/'dl/faststyle'"
   ]
  },
  {
   "cell_type": "code",
   "execution_count": null,
   "metadata": {},
   "outputs": [],
   "source": [
    "loss_func = FastStyleLoss(stl_w=3e5, tv_w=300)\n",
    "\n",
    "@delegates(get_dls)\n",
    "def get_learner(m, **kwargs):\n",
    "  learn = None; gc.collect()\n",
    "  learn = style_learner(get_dls(**kwargs),m,get_feats,style_fns,loss_func=loss_func)\n",
    "  learn.path = save_dir\n",
    "  return learn"
   ]
  },
  {
   "cell_type": "code",
   "execution_count": null,
   "metadata": {},
   "outputs": [],
   "source": [
    "def predict_test(learn):\n",
    "  preds_dir = save_dir/'preds'; preds_dir.mkdir(exist_ok=True)\n",
    "  imgs_dir = Path('imgs')\n",
    "  fns = ['lindsey.png']\n",
    "  fns = L(fns).map(lambda o: imgs_dir/o)\n",
    "  dset = Datasets(fns, tfms=[[PILImageX.create], [PILImage.create]])\n",
    "  after_item = [RatioResize(1024), ToTensor()]\n",
    "  dl = learn.dls.valid.new(dset, after_item=after_item)\n",
    "  _,_,preds = learn.get_preds(dl=dl, with_decoded=True)\n",
    "  imgs = L(PILImage.create(TensorImage((pred*255).long())) for pred in preds)\n",
    "  for img,fn in zip(imgs,fns): img.save(preds_dir/fn.name)"
   ]
  },
  {
   "cell_type": "code",
   "execution_count": null,
   "metadata": {},
   "outputs": [],
   "source": [
    "m = TransformerNet()"
   ]
  },
  {
   "cell_type": "code",
   "execution_count": null,
   "metadata": {},
   "outputs": [],
   "source": [
    "szs  = [256,512,1024]\n",
    "bss  = [26, 8, 2]\n",
    "lrs  = [1e-3,1e-3,5e-4]\n",
    "pcts = [1.,.6,.4]"
   ]
  },
  {
   "cell_type": "code",
   "execution_count": null,
   "metadata": {},
   "outputs": [],
   "source": [
    "name = '-'.join(style_fns.map(lambda o: o.stem))"
   ]
  },
  {
   "cell_type": "code",
   "execution_count": null,
   "metadata": {},
   "outputs": [],
   "source": [
    "for i,(sz,bs,lr,pct) in enumerate(zip(szs,bss,lrs,pcts)):\n",
    "  learn = get_learner(m, sz=sz, bs=bs)\n",
    "  try: learn.load(name+f'_{szs[min(0,i-1)]}');    print('Loaded model')\n",
    "  except FileNotFoundError:                       print('Failed to load model')\n",
    "  learn.fit(1, lr, cbs=[ShortEpochCallback(pct=pct)])\n",
    "  learn.save(name+f'_{sz}')\n",
    "  predict_test(learn)"
   ]
  },
  {
   "cell_type": "code",
   "execution_count": null,
   "metadata": {},
   "outputs": [],
   "source": [
    "export_dir = save_dir/'exports'; export_dir.mkdir(exist_ok=True)\n",
    "learn.export(export_dir/f'{name}.pkl')"
   ]
  }
 ],
 "metadata": {
  "kernelspec": {
   "display_name": "Python 3",
   "language": "python",
   "name": "python3"
  }
 },
 "nbformat": 4,
 "nbformat_minor": 1
}
