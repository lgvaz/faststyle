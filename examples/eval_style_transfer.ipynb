{
 "cells": [
  {
   "cell_type": "markdown",
   "metadata": {},
   "source": [
    "<a href=\"https://colab.research.google.com/github/lgvaz/faststyle/blob/master/examples/eval_style_transfer.ipynb\" target=\"_parent\"><img src=\"https://colab.research.google.com/assets/colab-badge.svg\" alt=\"Open In Colab\"/></a>"
   ]
  },
  {
   "cell_type": "code",
   "execution_count": null,
   "metadata": {},
   "outputs": [],
   "source": [
    "# Get more ram\n",
    "# import numpy as np\n",
    "# _ = np.ones((1000,1000,1000,1000))"
   ]
  },
  {
   "cell_type": "code",
   "execution_count": null,
   "metadata": {},
   "outputs": [],
   "source": [
    "try:\n",
    "  import fastai\n",
    "except ImportError:\n",
    "  !pip install -q git+git://github.com/fastai/fastcore.git\n",
    "  !pip install -q git+git://github.com/fastai/fastai.git\n",
    "  !pip install -q git+https://github.com/lgvaz/faststyle.git"
   ]
  },
  {
   "cell_type": "code",
   "execution_count": null,
   "metadata": {},
   "outputs": [],
   "source": [
    "from fastai.basics import *\n",
    "from fastai.vision.all import *\n",
    "from faststyle import *"
   ]
  },
  {
   "cell_type": "code",
   "execution_count": null,
   "metadata": {},
   "outputs": [],
   "source": [
    "try:\n",
    "  from google.colab import drive\n",
    "  drive.mount('/content/gdrive', force_remount=True)\n",
    "  root_dir = Path('/content/gdrive/My Drive/')\n",
    "except ImportError:\n",
    "  root_dir = Path('.')\n",
    "save_dir = root_dir/'dl/faststyle'"
   ]
  },
  {
   "cell_type": "code",
   "execution_count": null,
   "metadata": {},
   "outputs": [],
   "source": [
    "mname = 'tn-abstract-starry-mosaic-1024.pkl'\n",
    "learn = load_learner(root_dir/f'exports/{mname}')"
   ]
  },
  {
   "cell_type": "code",
   "execution_count": null,
   "metadata": {},
   "outputs": [],
   "source": [
    "imgs_dir = Path('imgs')\n",
    "save_dir = root_dir/Path('preds')/mname; save_dir.mkdir(exist_ok=True)\n",
    "fns = get_image_files(imgs_dir)\n",
    "# fns = L(fns).map(lambda o: imgs_dir/o)"
   ]
  },
  {
   "cell_type": "code",
   "execution_count": null,
   "metadata": {},
   "outputs": [],
   "source": [
    "dl = learn.dls.test_dl(fns, after_item=[RatioResize(1024), ToTensor()])\n",
    "dl.get_idxs = lambda: Inf.zeros\n",
    "dl.show_batch()"
   ]
  },
  {
   "cell_type": "code",
   "execution_count": null,
   "metadata": {},
   "outputs": [],
   "source": [
    "after_item = Pipeline([RatioResize(1024), ToTensor()])\n",
    "after_batch = Pipeline(L(list(learn.dls.after_item)).filter(lambda o: not isinstance(o, RandTransform)))"
   ]
  },
  {
   "cell_type": "code",
   "execution_count": null,
   "metadata": {},
   "outputs": [],
   "source": [
    "with torch.no_grad():\n",
    "  for item,fn in zip(dset,fns):\n",
    "    dl = learn.dls.valid.new([item], after_item=after_item, bs=1)\n",
    "    _,_,preds = learn.get_preds(dl=dl, with_decoded=True)\n",
    "    img = PILImage.create(TensorImage((preds[0]*255).long()))\n",
    "    img.save(save_dir/fn.name)"
   ]
  },
  {
   "cell_type": "code",
   "execution_count": null,
   "metadata": {},
   "outputs": [],
   "source": []
  }
 ],
 "metadata": {
  "kernelspec": {
   "display_name": "Python 3",
   "language": "python",
   "name": "python3"
  }
 },
 "nbformat": 4,
 "nbformat_minor": 1
}
